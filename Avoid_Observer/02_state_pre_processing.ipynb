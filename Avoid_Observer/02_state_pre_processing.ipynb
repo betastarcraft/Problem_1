{
 "cells": [
  {
   "cell_type": "code",
   "execution_count": 31,
   "metadata": {},
   "outputs": [],
   "source": [
    "import numpy as np\n",
    "import matplotlib.pyplot as plt\n",
    "%matplotlib inline\n",
    "%config InlineBackend.figure_format = 'retina'\n",
    "\n",
    "from processing import ObsProcessor\n",
    "from core.algorithm.DDPG import DDPGAgent\n",
    "from saida_gym.starcraft.avoidObservers import AvoidObservers"
   ]
  },
  {
   "cell_type": "code",
   "execution_count": 2,
   "metadata": {},
   "outputs": [
    {
     "name": "stdout",
     "output_type": "stream",
     "text": [
      "Initialize...\n",
      "Shared Memory create\u0000\n",
      "SAIDA_AO9968 Shared memory found.\n"
     ]
    }
   ],
   "source": [
    "frames_per_step = 4\n",
    "no_gui = False\n",
    "\n",
    "env = AvoidObservers(action_type=0, verbose=0, frames_per_step=frames_per_step, no_gui=no_gui, \\\n",
    "                     bot_runner=r\"..\\SAIDA_RL\\cpp\\Release\\SAIDA\\SAIDA.exe\")"
   ]
  },
  {
   "cell_type": "code",
   "execution_count": 3,
   "metadata": {},
   "outputs": [],
   "source": [
    "env.reset()\n",
    "s = env.state"
   ]
  },
  {
   "cell_type": "code",
   "execution_count": 5,
   "metadata": {},
   "outputs": [],
   "source": [
    "processor = ObsProcessor()\n",
    "map_of_scurge, map_of_observer = processor.process_observation(s)"
   ]
  },
  {
   "cell_type": "code",
   "execution_count": 6,
   "metadata": {},
   "outputs": [
    {
     "name": "stdout",
     "output_type": "stream",
     "text": [
      "(64, 64, 1)\n",
      "(21, 21, 1)\n",
      "(64, 64)\n"
     ]
    }
   ],
   "source": [
    "print(map_of_scurge.shape)\n",
    "print(map_of_observer.shape)\n",
    "print(processor.last_action.shape)"
   ]
  },
  {
   "cell_type": "code",
   "execution_count": null,
   "metadata": {},
   "outputs": [],
   "source": [
    "agent = DDPGAgent(actor, critic, ACTION_SIZE, memory, critic_action_input=action_input,\n",
    "                  train_interval=dict_args[OPS.TARGET_NETWORK_UPDATE()], processor=ObsProcessor(), \n",
    "                  batch_size=BATCH_SIZE, tau_for_actor=1e-3, tau_for_critic=1e-2, policy=policy, test_policy=test_policy)"
   ]
  },
  {
   "cell_type": "markdown",
   "metadata": {},
   "source": [
    "---"
   ]
  },
  {
   "cell_type": "code",
   "execution_count": 23,
   "metadata": {},
   "outputs": [],
   "source": [
    "from keras.layers import Dense, Input, Concatenate, Conv2D, Flatten, TimeDistributed, LSTM\n",
    "from keras import regularizers\n",
    "from keras.models import Model"
   ]
  },
  {
   "cell_type": "code",
   "execution_count": 15,
   "metadata": {},
   "outputs": [],
   "source": [
    "TIME_WINDOW = 2\n",
    "STATE1_SIZE = (TIME_WINDOW, 64, 64, 1)  # If you never set it, then it will be \"channels_last\".\n",
    "STATE2_SIZE = (TIME_WINDOW, 20, 20, 1)\n",
    "ACTION_SIZE = 1\n",
    "CRITIC_L2_REG = 0.01"
   ]
  },
  {
   "cell_type": "code",
   "execution_count": 16,
   "metadata": {},
   "outputs": [],
   "source": [
    "observation_input = [Input(shape=STATE1_SIZE, name='scurge_observation_input'), \\\n",
    "                     Input(shape=STATE2_SIZE, name='observer_observation_input')]\n",
    "action_input = Input(shape=(ACTION_SIZE, ), name='action_input')"
   ]
  },
  {
   "cell_type": "code",
   "execution_count": 17,
   "metadata": {},
   "outputs": [
    {
     "data": {
      "text/plain": [
       "[<tf.Tensor 'scurge_observation_input_1:0' shape=(?, 2, 64, 64, 1) dtype=float32>,\n",
       " <tf.Tensor 'observer_observation_input_1:0' shape=(?, 2, 20, 20, 1) dtype=float32>]"
      ]
     },
     "execution_count": 17,
     "metadata": {},
     "output_type": "execute_result"
    }
   ],
   "source": [
    "observation_input"
   ]
  },
  {
   "cell_type": "markdown",
   "metadata": {},
   "source": [
    "- `(n_samples, time_window, shape[0], shape[1], shape[2])`"
   ]
  },
  {
   "cell_type": "code",
   "execution_count": 28,
   "metadata": {},
   "outputs": [
    {
     "data": {
      "text/plain": [
       "<tf.Tensor 'action_input_1:0' shape=(?, 1) dtype=float32>"
      ]
     },
     "execution_count": 28,
     "metadata": {},
     "output_type": "execute_result"
    }
   ],
   "source": [
    "action_input"
   ]
  },
  {
   "cell_type": "code",
   "execution_count": 27,
   "metadata": {},
   "outputs": [],
   "source": [
    "SHARED_CONV2D_1_1 = TimeDistributed(Conv2D(10, kernel_size=5, strides=1, activation='relu', padding='SAME', kernel_regularizer=regularizers.l2(CRITIC_L2_REG)))\n",
    "SHARED_CONV2D_1_2 = TimeDistributed(Conv2D(5, kernel_size=3, strides=1, activation='relu', padding='SAME', kernel_regularizer=regularizers.l2(CRITIC_L2_REG)))\n",
    "SHARED_FLATTEN_1 = TimeDistributed(Flatten())\n",
    "\n",
    "SHARED_CONV2D_2_1 = TimeDistributed(Conv2D(10, kernel_size=4, strides=1, activation='relu', padding='SAME', kernel_regularizer=regularizers.l2(CRITIC_L2_REG)))\n",
    "SHARED_CONV2D_2_2 = TimeDistributed(Conv2D(5, kernel_size=3, strides=1, activation='relu', padding='SAME', kernel_regularizer=regularizers.l2(CRITIC_L2_REG)))\n",
    "SHARED_FLATTEN_2 = TimeDistributed(Flatten())\n",
    "\n",
    "SHARED_CONCATENATED = Concatenate()"
   ]
  },
  {
   "cell_type": "code",
   "execution_count": 26,
   "metadata": {},
   "outputs": [],
   "source": [
    "def build_critic_model():\n",
    "    oh1 = SHARED_CONV2D_1_1(observation_input[0])\n",
    "    oh1 = SHARED_CONV2D_1_2(oh1)\n",
    "    oh1 = SHARED_FLATTEN_1(oh1)\n",
    "\n",
    "    oh2 = SHARED_CONV2D_2_1(observation_input[1])\n",
    "    oh2 = SHARED_CONV2D_2_2(oh2)\n",
    "    oh2 = SHARED_FLATTEN_2(oh2)\n",
    "\n",
    "    oh = SHARED_CONCATENATED([oh1, oh2])\n",
    "    oh = LSTM(512)(oh)\n",
    "\n",
    "    ah = Dense(30, activation='relu', kernel_regularizer=regularizers.l2(CRITIC_L2_REG))(action_input)\n",
    "    ah = Dense(20, activation='relu', kernel_regularizer=regularizers.l2(CRITIC_L2_REG))(ah)\n",
    "\n",
    "    h = Concatenate()([oh, ah])\n",
    "    h = Dense(30, activation='relu', kernel_regularizer=regularizers.l2(CRITIC_L2_REG))(h)\n",
    "    h = Dense(20, activation='relu', kernel_regularizer=regularizers.l2(CRITIC_L2_REG))(h)\n",
    "    output = Dense(1, activation='linear', kernel_regularizer=regularizers.l2(CRITIC_L2_REG))(h)\n",
    "\n",
    "    model = Model(inputs=[observation_input[0], observation_input[1], action_input], outputs=[output])\n",
    "    model.summary()\n",
    "\n",
    "    return model"
   ]
  },
  {
   "cell_type": "code",
   "execution_count": 25,
   "metadata": {},
   "outputs": [
    {
     "name": "stdout",
     "output_type": "stream",
     "text": [
      "__________________________________________________________________________________________________\n",
      "Layer (type)                    Output Shape         Param #     Connected to                     \n",
      "==================================================================================================\n",
      "scurge_observation_input (Input (None, 2, 64, 64, 1) 0                                            \n",
      "__________________________________________________________________________________________________\n",
      "observer_observation_input (Inp (None, 2, 20, 20, 1) 0                                            \n",
      "__________________________________________________________________________________________________\n",
      "time_distributed_1 (TimeDistrib (None, 2, 64, 64, 10 260         scurge_observation_input[0][0]   \n",
      "__________________________________________________________________________________________________\n",
      "time_distributed_4 (TimeDistrib (None, 2, 20, 20, 10 170         observer_observation_input[0][0] \n",
      "__________________________________________________________________________________________________\n",
      "time_distributed_2 (TimeDistrib (None, 2, 64, 64, 5) 455         time_distributed_1[3][0]         \n",
      "__________________________________________________________________________________________________\n",
      "time_distributed_5 (TimeDistrib (None, 2, 20, 20, 5) 455         time_distributed_4[1][0]         \n",
      "__________________________________________________________________________________________________\n",
      "time_distributed_3 (TimeDistrib (None, 2, 20480)     0           time_distributed_2[3][0]         \n",
      "__________________________________________________________________________________________________\n",
      "time_distributed_6 (TimeDistrib (None, 2, 2000)      0           time_distributed_5[1][0]         \n",
      "__________________________________________________________________________________________________\n",
      "action_input (InputLayer)       (None, 1)            0                                            \n",
      "__________________________________________________________________________________________________\n",
      "concatenate_1 (Concatenate)     (None, 2, 22480)     0           time_distributed_3[3][0]         \n",
      "                                                                 time_distributed_6[1][0]         \n",
      "__________________________________________________________________________________________________\n",
      "dense_6 (Dense)                 (None, 30)           60          action_input[0][0]               \n",
      "__________________________________________________________________________________________________\n",
      "lstm_2 (LSTM)                   (None, 512)          47089664    concatenate_1[1][0]              \n",
      "__________________________________________________________________________________________________\n",
      "dense_7 (Dense)                 (None, 20)           620         dense_6[0][0]                    \n",
      "__________________________________________________________________________________________________\n",
      "concatenate_3 (Concatenate)     (None, 532)          0           lstm_2[0][0]                     \n",
      "                                                                 dense_7[0][0]                    \n",
      "__________________________________________________________________________________________________\n",
      "dense_8 (Dense)                 (None, 30)           15990       concatenate_3[0][0]              \n",
      "__________________________________________________________________________________________________\n",
      "dense_9 (Dense)                 (None, 20)           620         dense_8[0][0]                    \n",
      "__________________________________________________________________________________________________\n",
      "dense_10 (Dense)                (None, 1)            21          dense_9[0][0]                    \n",
      "==================================================================================================\n",
      "Total params: 47,108,315\n",
      "Trainable params: 47,108,315\n",
      "Non-trainable params: 0\n",
      "__________________________________________________________________________________________________\n"
     ]
    }
   ],
   "source": [
    "critic = build_critic_model()"
   ]
  },
  {
   "cell_type": "code",
   "execution_count": 29,
   "metadata": {},
   "outputs": [],
   "source": [
    "def build_actor_model():\n",
    "    oh1 = SHARED_CONV2D_1_1(observation_input[0])\n",
    "    oh1 = SHARED_CONV2D_1_2(oh1)\n",
    "    oh1 = SHARED_FLATTEN_1(oh1)\n",
    "\n",
    "    oh2 = SHARED_CONV2D_2_1(observation_input[1])\n",
    "    oh2 = SHARED_CONV2D_2_2(oh2)\n",
    "    oh2 = SHARED_FLATTEN_2(oh2)\n",
    "\n",
    "    oh = SHARED_CONCATENATED([oh1, oh2])\n",
    "\n",
    "    h = TimeDistributed(Dense(30, activation='relu'))(oh)\n",
    "    h = LSTM(512)(h)\n",
    "    h = Dense(20, activation='relu')(h)\n",
    "\n",
    "    output = Dense(ACTION_SIZE, activation='sigmoid')(h)\n",
    "    model = Model(inputs=observation_input, outputs=[output])\n",
    "    model.summary()\n",
    "\n",
    "    return model"
   ]
  },
  {
   "cell_type": "code",
   "execution_count": 30,
   "metadata": {},
   "outputs": [
    {
     "name": "stdout",
     "output_type": "stream",
     "text": [
      "__________________________________________________________________________________________________\n",
      "Layer (type)                    Output Shape         Param #     Connected to                     \n",
      "==================================================================================================\n",
      "scurge_observation_input (Input (None, 2, 64, 64, 1) 0                                            \n",
      "__________________________________________________________________________________________________\n",
      "observer_observation_input (Inp (None, 2, 20, 20, 1) 0                                            \n",
      "__________________________________________________________________________________________________\n",
      "time_distributed_7 (TimeDistrib (None, 2, 64, 64, 10 260         scurge_observation_input[0][0]   \n",
      "__________________________________________________________________________________________________\n",
      "time_distributed_10 (TimeDistri (None, 2, 20, 20, 10 170         observer_observation_input[0][0] \n",
      "__________________________________________________________________________________________________\n",
      "time_distributed_8 (TimeDistrib (None, 2, 64, 64, 5) 455         time_distributed_7[0][0]         \n",
      "__________________________________________________________________________________________________\n",
      "time_distributed_11 (TimeDistri (None, 2, 20, 20, 5) 455         time_distributed_10[0][0]        \n",
      "__________________________________________________________________________________________________\n",
      "time_distributed_9 (TimeDistrib (None, 2, 20480)     0           time_distributed_8[0][0]         \n",
      "__________________________________________________________________________________________________\n",
      "time_distributed_12 (TimeDistri (None, 2, 2000)      0           time_distributed_11[0][0]        \n",
      "__________________________________________________________________________________________________\n",
      "concatenate_4 (Concatenate)     (None, 2, 22480)     0           time_distributed_9[0][0]         \n",
      "                                                                 time_distributed_12[0][0]        \n",
      "__________________________________________________________________________________________________\n",
      "time_distributed_13 (TimeDistri (None, 2, 30)        674430      concatenate_4[0][0]              \n",
      "__________________________________________________________________________________________________\n",
      "lstm_3 (LSTM)                   (None, 512)          1112064     time_distributed_13[0][0]        \n",
      "__________________________________________________________________________________________________\n",
      "dense_12 (Dense)                (None, 20)           10260       lstm_3[0][0]                     \n",
      "__________________________________________________________________________________________________\n",
      "dense_13 (Dense)                (None, 1)            21          dense_12[0][0]                   \n",
      "==================================================================================================\n",
      "Total params: 1,798,115\n",
      "Trainable params: 1,798,115\n",
      "Non-trainable params: 0\n",
      "__________________________________________________________________________________________________\n"
     ]
    }
   ],
   "source": [
    "actor = build_actor_model()"
   ]
  },
  {
   "cell_type": "code",
   "execution_count": null,
   "metadata": {},
   "outputs": [],
   "source": []
  }
 ],
 "metadata": {
  "kernelspec": {
   "display_name": "Python 3",
   "language": "python",
   "name": "python3"
  },
  "language_info": {
   "codemirror_mode": {
    "name": "ipython",
    "version": 3
   },
   "file_extension": ".py",
   "mimetype": "text/x-python",
   "name": "python",
   "nbconvert_exporter": "python",
   "pygments_lexer": "ipython3",
   "version": "3.6.9"
  }
 },
 "nbformat": 4,
 "nbformat_minor": 2
}
