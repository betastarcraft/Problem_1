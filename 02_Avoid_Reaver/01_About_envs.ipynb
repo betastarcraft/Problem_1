{
 "cells": [
  {
   "cell_type": "code",
   "execution_count": 1,
   "metadata": {},
   "outputs": [],
   "source": [
    "import numpy as np\n",
    "import matplotlib.pyplot as plt\n",
    "%matplotlib inline\n",
    "%config InlineBackend.figure_format = 'retina'"
   ]
  },
  {
   "cell_type": "markdown",
   "metadata": {},
   "source": [
    "# `AvoidReaver`\n",
    "- SAIDA_RL에서 작성한 document : https://teamsaida.github.io/SAIDA_RL/AvoidReavers/ "
   ]
  },
  {
   "cell_type": "markdown",
   "metadata": {},
   "source": [
    "## #1. import `AvoidReavers`"
   ]
  },
  {
   "cell_type": "markdown",
   "metadata": {},
   "source": [
    "- `AvoidReaver` 클래스를 import 해서 env를 만들면 학습시킬 수 있는 환경 객체가 생성된다."
   ]
  },
  {
   "cell_type": "code",
   "execution_count": 3,
   "metadata": {
    "scrolled": true
   },
   "outputs": [],
   "source": [
    "from saida_gym.starcraft.avoidReavers import AvoidReavers"
   ]
  },
  {
   "cell_type": "code",
   "execution_count": 7,
   "metadata": {
    "scrolled": true
   },
   "outputs": [
    {
     "name": "stdout",
     "output_type": "stream",
     "text": [
      "Initialize...\n",
      "Shared Memory create\u0000\n",
      "SAIDA_AR6840 Shared memory found.\n"
     ]
    },
    {
     "data": {
      "text/plain": [
       "<saida_gym.starcraft.avoidReavers.AvoidReavers at 0x1bb396e0710>"
      ]
     },
     "execution_count": 7,
     "metadata": {},
     "output_type": "execute_result"
    }
   ],
   "source": [
    "env = AvoidReavers(move_angle=30, move_dist=2, frames_per_step=16, verbose=0, action_type=0, no_gui=False, \\\n",
    "                   bot_runner=r\"..\\SAIDA_RL\\cpp\\Release\\SAIDA\\SAIDA.exe\")\n",
    "env"
   ]
  },
  {
   "cell_type": "markdown",
   "metadata": {},
   "source": [
    "- env 객체를 생성하기만 해도 starcraft 환경이 켜짐. \n",
    "\n",
    "\n",
    "- `python/saida_gym/envs/SAIDAGym.py` 에서 `shm.SharedMemory()` 로 메모리를 공유하면서 바로 켜지는 것으로 보임."
   ]
  },
  {
   "cell_type": "markdown",
   "metadata": {},
   "source": [
    "---\n",
    "## #2. `env`는 어떤 속성들을 가지고 있나?\n"
   ]
  },
  {
   "cell_type": "code",
   "execution_count": 8,
   "metadata": {},
   "outputs": [
    {
     "data": {
      "text/plain": [
       "dict_keys(['verbose', 'action_type', 'map_version', 'frames_per_step', 'move_angle', 'move_dist', 'conn', 'message', 'common_message', 'init_req_msg', 'init_res_msg', 'reset_req_msg', 'reset_res_msg', 'step_req_msg', 'step_res_msg', 'close_req_msg', 'state', 'action_space', 'reward', 'done', 'info'])"
      ]
     },
     "execution_count": 8,
     "metadata": {},
     "output_type": "execute_result"
    }
   ],
   "source": [
    "env.__dict__.keys()"
   ]
  },
  {
   "cell_type": "markdown",
   "metadata": {},
   "source": [
    "- 하나씩 확인해보자."
   ]
  },
  {
   "cell_type": "markdown",
   "metadata": {},
   "source": [
    "### 1) 학습과 관련된 parameters"
   ]
  },
  {
   "cell_type": "code",
   "execution_count": 10,
   "metadata": {},
   "outputs": [
    {
     "name": "stdout",
     "output_type": "stream",
     "text": [
      "verbose: 0\n",
      "action_type: 0\n",
      "map_version: 0\n",
      "frames_per_step: 16\n",
      "move_angle: 30\n",
      "move_dist: 2\n",
      "action_space: Discrete(13)\n"
     ]
    }
   ],
   "source": [
    "print(\"verbose:\", env.verbose)\n",
    "print(\"action_type:\", env.action_type)\n",
    "print(\"map_version:\", env.map_version)\n",
    "print(\"frames_per_step:\", env.frames_per_step)\n",
    "print(\"move_angle:\", env.move_angle)\n",
    "print(\"move_dist:\", env.move_dist)\n",
    "print(\"action_space:\", env.action_space)"
   ]
  },
  {
   "cell_type": "markdown",
   "metadata": {},
   "source": [
    "#### # `verbose`\n",
    "- 출력되는 로그의 양 조정\n",
    "\n",
    "#### # `action_type`\n",
    "- `0` : discrete (output : descrete한 N개의 action_space 중 하나의 `integer` (0~N 중 마지막 숫자인 N은 공격))\n",
    "- `1` : continuous, xy좌표 (output : `[x좌표, y좌표, action_종류(0:이동, 1:공격)]`)\n",
    "- `2` : continuous, 극좌표 (output : `[theta, radian, action_종류(0:이동, 1:공격)]`)\n",
    "    \n",
    "#### # `map_version` \n",
    "- `0` : 1 vulture versus 1 zealot, no terrain\n",
    "- `1` : 1 vulture versus 2 zealot, no terrain\t\n",
    "- `2` : 1 vulture versus 1 zealot, with terrain\n",
    "- `3` : 1 vulture versus 2 zealot, with terrain\n",
    "\n",
    "#### # `frames_per_step`\n",
    "- 몇 frame마다 하나의 action을 결정할지에 대한 step을 결정\n",
    "\n",
    "#### # `move_angle`\n",
    "- 가장 작은 단위의 움직임 각도 단위\n",
    "- `move_angle = 15` 이면 agent는 15도 단위, 즉 360/15 = 24방향으로 이동가능\n",
    "\n",
    "#### # `move_distance` \n",
    "- 한 action에 이동할 거리\n",
    "- 1 unit = 32px \n",
    "\n",
    "#### # `action_space` \n",
    "- `move_angle`로 나뉘어진 action 공간\n",
    "- `move_angle = 15` 이면 `action_space`는 24\n",
    "\n",
    "#### # `observation_space`\n",
    "- 각 agent (자신과 적 포함) 에게서 관찰할 수 있는 모든 정보 종류의 수"
   ]
  },
  {
   "cell_type": "markdown",
   "metadata": {},
   "source": [
    "### 2) starcraft server와의 connection과 관련된 parameters"
   ]
  },
  {
   "cell_type": "code",
   "execution_count": 11,
   "metadata": {},
   "outputs": [
    {
     "name": "stdout",
     "output_type": "stream",
     "text": [
      "conn: <saida_gym.envs.conn.shm.SharedMemory object at 0x000001BB396E06D8>\n",
      "message: <module 'saida_gym.envs.protobuf.common_pb2' from 'C:\\\\Users\\\\Jeina\\\\SAIDA_RL\\\\python\\\\saida_gym\\\\envs\\\\protobuf\\\\common_pb2.py'>\n",
      "common_message: <module 'saida_gym.envs.protobuf.common_pb2' from 'C:\\\\Users\\\\Jeina\\\\SAIDA_RL\\\\python\\\\saida_gym\\\\envs\\\\protobuf\\\\common_pb2.py'>\n"
     ]
    }
   ],
   "source": [
    "print(\"conn:\", env.conn)\n",
    "print(\"message:\", env.message)  # protobuf file\n",
    "print(\"common_message:\", env.common_message)  # protobuf file"
   ]
  },
  {
   "cell_type": "markdown",
   "metadata": {},
   "source": [
    "- 이 친구들은 connection과 연관이 있음 \n",
    "\n",
    "\n",
    "- python 코드에서 cpp 코드로 넘어가는 부분이기도 함\n",
    "\n",
    "\n",
    "- python과 cpp 간에 데이터 전송을 protobuf 라는 데이터 구조로 진행하는 것으로 보임, 완벽하게 이해는 x  "
   ]
  },
  {
   "cell_type": "markdown",
   "metadata": {},
   "source": [
    "### 3) `state`"
   ]
  },
  {
   "cell_type": "markdown",
   "metadata": {},
   "source": [
    "- 맨 처음 `env` 객체를 만든 후 state를 호출하면 아무것도 없음"
   ]
  },
  {
   "cell_type": "code",
   "execution_count": 12,
   "metadata": {},
   "outputs": [],
   "source": [
    "env.state"
   ]
  },
  {
   "cell_type": "markdown",
   "metadata": {},
   "source": [
    "- `env`를 한 번 reset 해줘야 env에 최초 state가 담김"
   ]
  },
  {
   "cell_type": "code",
   "execution_count": 16,
   "metadata": {},
   "outputs": [
    {
     "data": {
      "text/plain": [
       "my_unit {\n",
       "  unit_type: \"Terran_Dropship\"\n",
       "  hp: 150\n",
       "  pos_x: 35\n",
       "  pos_y: 35\n",
       "  angle: 0.9817477042468103\n",
       "}\n",
       "en_unit {\n",
       "  unit_type: \"Protoss_Reaver\"\n",
       "  hp: 100\n",
       "  shield: 80\n",
       "  cooldown: 11\n",
       "  pos_x: 96\n",
       "  pos_y: 256\n",
       "  angle: 5.522330836388308\n",
       "  accelerating: true\n",
       "}\n",
       "en_unit {\n",
       "  unit_type: \"Protoss_Reaver\"\n",
       "  hp: 100\n",
       "  shield: 80\n",
       "  cooldown: 11\n",
       "  pos_x: 192\n",
       "  pos_y: 192\n",
       "  angle: 3.902447124381071\n",
       "  accelerating: true\n",
       "}\n",
       "en_unit {\n",
       "  unit_type: \"Protoss_Reaver\"\n",
       "  hp: 100\n",
       "  shield: 80\n",
       "  cooldown: 11\n",
       "  pos_x: 256\n",
       "  pos_y: 64\n",
       "  angle: 0.6872233929727672\n",
       "  accelerating: true\n",
       "}"
      ]
     },
     "execution_count": 16,
     "metadata": {},
     "output_type": "execute_result"
    }
   ],
   "source": [
    "state = env.reset()\n",
    "state"
   ]
  },
  {
   "cell_type": "markdown",
   "metadata": {},
   "source": [
    "- en_unit은 세 마리의 Reavers를 나타냄"
   ]
  },
  {
   "cell_type": "markdown",
   "metadata": {},
   "source": [
    "### 4) `reward`, `done`, `info`"
   ]
  },
  {
   "cell_type": "code",
   "execution_count": 17,
   "metadata": {},
   "outputs": [
    {
     "data": {
      "text/plain": [
       "0"
      ]
     },
     "execution_count": 17,
     "metadata": {},
     "output_type": "execute_result"
    }
   ],
   "source": [
    "env.reward"
   ]
  },
  {
   "cell_type": "markdown",
   "metadata": {},
   "source": [
    "- agent의 보상값 (zealot을 죽이면 양의 보상을 받을 것으로 예상)"
   ]
  },
  {
   "cell_type": "code",
   "execution_count": 18,
   "metadata": {},
   "outputs": [
    {
     "data": {
      "text/plain": [
       "0"
      ]
     },
     "execution_count": 18,
     "metadata": {},
     "output_type": "execute_result"
    }
   ],
   "source": [
    "env.done"
   ]
  },
  {
   "cell_type": "markdown",
   "metadata": {},
   "source": [
    "- episode가 끝났는지에 대한 boolean값\n",
    "\n",
    "- vulture나 zealot 중 하나가 죽으면 끝날 것으로 예상"
   ]
  },
  {
   "cell_type": "code",
   "execution_count": 19,
   "metadata": {},
   "outputs": [
    {
     "data": {
      "text/plain": [
       "{}"
      ]
     },
     "execution_count": 19,
     "metadata": {},
     "output_type": "execute_result"
    }
   ],
   "source": [
    "env.info"
   ]
  }
 ],
 "metadata": {
  "kernelspec": {
   "display_name": "Python 3",
   "language": "python",
   "name": "python3"
  },
  "language_info": {
   "codemirror_mode": {
    "name": "ipython",
    "version": 3
   },
   "file_extension": ".py",
   "mimetype": "text/x-python",
   "name": "python",
   "nbconvert_exporter": "python",
   "pygments_lexer": "ipython3",
   "version": "3.6.9"
  }
 },
 "nbformat": 4,
 "nbformat_minor": 2
}
