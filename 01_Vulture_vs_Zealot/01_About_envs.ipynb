{
 "cells": [
  {
   "cell_type": "code",
   "execution_count": 1,
   "metadata": {},
   "outputs": [],
   "source": [
    "import numpy as np\n",
    "import matplotlib.pyplot as plt\n",
    "%matplotlib inline\n",
    "%config InlineBackend.figure_format = 'retina'"
   ]
  },
  {
   "cell_type": "markdown",
   "metadata": {},
   "source": [
    "# `VultureVsZealot`\n",
    "- SAIDA_RL에서 작성한 document : https://teamsaida.github.io/SAIDA_RL/VultureVSZealot/ "
   ]
  },
  {
   "cell_type": "markdown",
   "metadata": {},
   "source": [
    "\n",
    "- VultureVsZealot 환경 분석"
   ]
  },
  {
   "cell_type": "markdown",
   "metadata": {},
   "source": [
    "---\n",
    "## #1. import VultureVsZealot"
   ]
  },
  {
   "cell_type": "markdown",
   "metadata": {},
   "source": [
    "- `VultureVsZealot` 클래스를 import 해서 env를 만들면 학습시킬 수 있는 환경 객체가 생성된다."
   ]
  },
  {
   "cell_type": "code",
   "execution_count": 2,
   "metadata": {
    "scrolled": true
   },
   "outputs": [],
   "source": [
    "from SAIDA_RL.python.saida_gym.starcraft.vultureVsZealot import VultureVsZealot"
   ]
  },
  {
   "cell_type": "code",
   "execution_count": 3,
   "metadata": {
    "scrolled": true
   },
   "outputs": [
    {
     "name": "stdout",
     "output_type": "stream",
     "text": [
      "Initialize...\n",
      "Shared Memory create\u0000\n",
      "SAIDA_VZ2796 Shared memory found.\n"
     ]
    },
    {
     "data": {
      "text/plain": [
       "<SAIDA_RL.python.saida_gym.starcraft.vultureVsZealot.VultureVsZealot at 0x1c9ceeed0f0>"
      ]
     },
     "execution_count": 3,
     "metadata": {},
     "output_type": "execute_result"
    }
   ],
   "source": [
    "env = VultureVsZealot(version=0, frames_per_step=6, action_type=0, move_angle=15, move_dist=9, \\\n",
    "                      verbose=0, no_gui=False, auto_kill=False, bot_runner=r\"SAIDA_RL\\cpp\\Release\\SAIDA\\SAIDA.exe\")\n",
    "env"
   ]
  },
  {
   "cell_type": "markdown",
   "metadata": {},
   "source": [
    "- env 객체를 생성하기만 해도 starcraft 환경이 켜짐. \n",
    "\n",
    "\n",
    "- `python/saida_gym/envs/SAIDAGym.py` 에서 `shm.SharedMemory()` 로 메모리를 공유하면서 바로 켜지는 것으로 보임."
   ]
  },
  {
   "cell_type": "markdown",
   "metadata": {},
   "source": [
    "---\n",
    "## #2. `env`는 어떤 속성들을 가지고 있나?\n"
   ]
  },
  {
   "cell_type": "code",
   "execution_count": 4,
   "metadata": {},
   "outputs": [
    {
     "data": {
      "text/plain": [
       "dict_keys(['verbose', 'action_type', 'map_version', 'frames_per_step', 'move_angle', 'move_dist', 'conn', 'message', 'common_message', 'init_req_msg', 'init_res_msg', 'reset_req_msg', 'reset_res_msg', 'step_req_msg', 'step_res_msg', 'close_req_msg', 'action_space', 'Terran_Vulture', 'Protoss_Zealot', 'walkableMap', 'observation_space', 'state', 'reward', 'done', 'info'])"
      ]
     },
     "execution_count": 4,
     "metadata": {},
     "output_type": "execute_result"
    }
   ],
   "source": [
    "env.__dict__.keys()"
   ]
  },
  {
   "cell_type": "markdown",
   "metadata": {},
   "source": [
    "- 하나씩 확인해보자."
   ]
  },
  {
   "cell_type": "markdown",
   "metadata": {},
   "source": [
    "### 1) 학습과 관련된 parameters"
   ]
  },
  {
   "cell_type": "code",
   "execution_count": 5,
   "metadata": {},
   "outputs": [
    {
     "name": "stdout",
     "output_type": "stream",
     "text": [
      "verbose: 0\n",
      "action_type: 0\n",
      "map_version: 0\n",
      "frames_per_step: 6\n",
      "move_angle: 15\n",
      "move_dist: 9\n",
      "action_space: Discrete(25)\n",
      "observation_space: Discrete(31)\n"
     ]
    }
   ],
   "source": [
    "print(\"verbose:\", env.verbose)\n",
    "print(\"action_type:\", env.action_type)\n",
    "print(\"map_version:\", env.map_version)\n",
    "print(\"frames_per_step:\", env.frames_per_step)\n",
    "print(\"move_angle:\", env.move_angle)\n",
    "print(\"move_dist:\", env.move_dist)\n",
    "print(\"action_space:\", env.action_space)\n",
    "print(\"observation_space:\", env.observation_space)"
   ]
  },
  {
   "cell_type": "markdown",
   "metadata": {},
   "source": [
    "#### # `verbose`\n",
    "- 출력되는 로그의 양 조정\n",
    "\n",
    "#### # `action_type`\n",
    "- `0` : discrete (output : descrete한 N개의 action_space 중 하나의 `integer` (0~N 중 마지막 숫자인 N은 공격))\n",
    "- `1` : continuous, xy좌표 (output : `[x좌표, y좌표, action_종류(0:이동, 1:공격)]`)\n",
    "- `2` : continuous, 극좌표 (output : `[theta, radian, action_종류(0:이동, 1:공격)]`)\n",
    "    \n",
    "#### # `map_version` \n",
    "- `0` : 1 vulture versus 1 zealot, no terrain\n",
    "- `1` : 1 vulture versus 2 zealot, no terrain\t\n",
    "- `2` : 1 vulture versus 1 zealot, with terrain\n",
    "- `3` : 1 vulture versus 2 zealot, with terrain\n",
    "\n",
    "#### # `frames_per_step`\n",
    "- 몇 frame마다 하나의 action을 결정할지에 대한 step을 결정\n",
    "\n",
    "#### # `move_angle`\n",
    "- 가장 작은 단위의 움직임 각도 단위\n",
    "- `move_angle = 15` 이면 agent는 15도 단위, 즉 360/15 = 24방향으로 이동가능\n",
    "\n",
    "#### # `move_distance` \n",
    "- 한 action에 이동할 거리\n",
    "- 1 unit = 32px \n",
    "\n",
    "#### # `action_space` \n",
    "- `move_angle`로 나뉘어진 action 공간\n",
    "- `move_angle = 15` 이면 `action_space`는 24\n",
    "\n",
    "#### # `observation_space`\n",
    "- 각 agent (자신과 적 포함) 에게서 관찰할 수 있는 모든 정보 종류의 수"
   ]
  },
  {
   "cell_type": "markdown",
   "metadata": {},
   "source": [
    "### 2) starcraft server와의 connection과 관련된 parameters"
   ]
  },
  {
   "cell_type": "code",
   "execution_count": 6,
   "metadata": {},
   "outputs": [
    {
     "name": "stdout",
     "output_type": "stream",
     "text": [
      "conn: <saida_gym.envs.conn.shm.SharedMemory object at 0x000001C9CEEED128>\n",
      "message: <module 'saida_gym.envs.protobuf.common_pb2' from 'C:\\\\Users\\\\Jeina\\\\SAIDA_RL\\\\python\\\\saida_gym\\\\envs\\\\protobuf\\\\common_pb2.py'>\n",
      "common_message: <module 'saida_gym.envs.protobuf.common_pb2' from 'C:\\\\Users\\\\Jeina\\\\SAIDA_RL\\\\python\\\\saida_gym\\\\envs\\\\protobuf\\\\common_pb2.py'>\n"
     ]
    }
   ],
   "source": [
    "print(\"conn:\", env.conn)\n",
    "print(\"message:\", env.message)  # protobuf file\n",
    "print(\"common_message:\", env.common_message)  # protobuf file"
   ]
  },
  {
   "cell_type": "markdown",
   "metadata": {},
   "source": [
    "- 이 친구들은 connection과 연관이 있음 \n",
    "\n",
    "\n",
    "- python 코드에서 cpp 코드로 넘어가는 부분이기도 함\n",
    "\n",
    "\n",
    "- python과 cpp 간에 데이터 전송을 protobuf 라는 데이터 구조로 진행하는 것으로 보임, 완벽하게 이해는 x  "
   ]
  },
  {
   "cell_type": "markdown",
   "metadata": {},
   "source": [
    "\n",
    "### 3) Agent와 관련된 parameters"
   ]
  },
  {
   "cell_type": "code",
   "execution_count": 7,
   "metadata": {
    "scrolled": false
   },
   "outputs": [
    {
     "name": "stdout",
     "output_type": "stream",
     "text": [
      "Terran_Vulture: hp_max: 80\n",
      "cooldown_max: 30\n",
      "acceleration: 100\n",
      "top_speed: 6.4\n",
      "damage_amount: 20\n",
      "damage_factor: 1\n",
      "weapon_range: 160\n",
      "sight_range: 256\n",
      "\n",
      "Protoss_Zealot: hp_max: 100\n",
      "shield_max: 60\n",
      "armor: 1\n",
      "cooldown_max: 22\n",
      "acceleration: 1\n",
      "top_speed: 4.0\n",
      "damage_amount: 8\n",
      "damage_factor: 1\n",
      "weapon_range: 15\n",
      "sight_range: 224\n",
      "seek_range: 96\n",
      "\n"
     ]
    }
   ],
   "source": [
    "print(\"Terran_Vulture:\", env.Terran_Vulture)\n",
    "print(\"Protoss_Zealot:\", env.Protoss_Zealot)"
   ]
  },
  {
   "cell_type": "markdown",
   "metadata": {},
   "source": [
    "- 현재 환경은 Vulture vs Zealot 이므로 두 agent들의 속성을 담음\n",
    "\n",
    "\n",
    "- 위에서 봤던 `observation_space` 는 31개이므로 원래 더 많은 속성들이 있지만, 현재 짜여진 코드에서 사용되는 것들만 보이는 듯함."
   ]
  },
  {
   "cell_type": "markdown",
   "metadata": {},
   "source": [
    "### 4) `WalkableMap`\n",
    "- 전체 지도를 agent가 갈 수 있는지/없는지 True/False로 나타낸 맵"
   ]
  },
  {
   "cell_type": "code",
   "execution_count": 8,
   "metadata": {
    "scrolled": true
   },
   "outputs": [
    {
     "name": "stdout",
     "output_type": "stream",
     "text": [
      "(512, 512)\n"
     ]
    },
    {
     "data": {
      "text/plain": [
       "array([[False, False, False, ..., False, False, False],\n",
       "       [False, False, False, ..., False, False, False],\n",
       "       [False, False, False, ..., False, False, False],\n",
       "       ...,\n",
       "       [False, False, False, ..., False, False, False],\n",
       "       [False, False, False, ..., False, False, False],\n",
       "       [False, False, False, ..., False, False, False]])"
      ]
     },
     "execution_count": 8,
     "metadata": {},
     "output_type": "execute_result"
    }
   ],
   "source": [
    "walkable_map = np.array(env.walkableMap)\n",
    "print(walkable_map.shape)\n",
    "walkable_map"
   ]
  },
  {
   "cell_type": "markdown",
   "metadata": {},
   "source": [
    "- 사이즈는 (512, 512)로 축소되어 있음"
   ]
  },
  {
   "cell_type": "code",
   "execution_count": 9,
   "metadata": {},
   "outputs": [
    {
     "data": {
      "image/png": "[encoded data removed]",
      "text/plain": [
       "<Figure size 576x576 with 1 Axes>"
      ]
     },
     "metadata": {
      "image/png": {
       "height": 469,
       "width": 477
      },
      "needs_background": "light"
     },
     "output_type": "display_data"
    }
   ],
   "source": [
    "plt.figure(figsize=(8, 8))\n",
    "plt.imshow(env.walkableMap, cmap='gray')\n",
    "plt.show()"
   ]
  },
  {
   "cell_type": "markdown",
   "metadata": {},
   "source": [
    "- 흰색이 walkable, 검은색은 non-walkable\n",
    "\n",
    "\n",
    "- 현재의 VulltureVsZealot 맵에서는 가운데부분만 흰색인 걸로 보아 그 부분에서만 이동 가능할 것으로 보임"
   ]
  },
  {
   "cell_type": "markdown",
   "metadata": {},
   "source": [
    "### 5) `state`"
   ]
  },
  {
   "cell_type": "markdown",
   "metadata": {},
   "source": [
    "- 맨 처음 `env` 객체를 만든 후 state를 호출하면 아무것도 없음"
   ]
  },
  {
   "cell_type": "code",
   "execution_count": 10,
   "metadata": {},
   "outputs": [],
   "source": [
    "env.state"
   ]
  },
  {
   "cell_type": "markdown",
   "metadata": {},
   "source": [
    "- `env`를 한 번 reset 해줘야 env에 최초 state가 담김"
   ]
  },
  {
   "cell_type": "code",
   "execution_count": 11,
   "metadata": {},
   "outputs": [],
   "source": [
    "state = env.reset()"
   ]
  },
  {
   "cell_type": "markdown",
   "metadata": {},
   "source": [
    "#### # `state.my_unit`: vulture의 상태\n",
    "\n",
    "- `pos_info`는 현재 24개의 action_space 방향에 가장 가까운 장애물(Zealot)의 거리를 나타냄\n",
    "\n",
    "- max_distance는 320이기 때문에, 모든 값이 320으로 나타난다면 반지름이 320인 원 내에 아무런 적이 없다는 뜻"
   ]
  },
  {
   "cell_type": "code",
   "execution_count": 12,
   "metadata": {},
   "outputs": [
    {
     "data": {
      "text/plain": [
       "[unit_type: \"Terran_Vulture\"\n",
       "hp: 80\n",
       "pos_x: 2176\n",
       "pos_y: 2120\n",
       "angle: 5.301437602932776\n",
       "pos_info {\n",
       "  nearest_obstacle_dist: 320\n",
       "}\n",
       "pos_info {\n",
       "  nearest_obstacle_dist: 320\n",
       "}\n",
       "pos_info {\n",
       "  nearest_obstacle_dist: 320\n",
       "}\n",
       "pos_info {\n",
       "  nearest_obstacle_dist: 320\n",
       "}\n",
       "pos_info {\n",
       "  nearest_obstacle_dist: 320\n",
       "}\n",
       "pos_info {\n",
       "  nearest_obstacle_dist: 320\n",
       "}\n",
       "pos_info {\n",
       "  nearest_obstacle_dist: 320\n",
       "}\n",
       "pos_info {\n",
       "  nearest_obstacle_dist: 320\n",
       "}\n",
       "pos_info {\n",
       "  nearest_obstacle_dist: 320\n",
       "}\n",
       "pos_info {\n",
       "  nearest_obstacle_dist: 320\n",
       "}\n",
       "pos_info {\n",
       "  nearest_obstacle_dist: 320\n",
       "}\n",
       "pos_info {\n",
       "  nearest_obstacle_dist: 320\n",
       "}\n",
       "pos_info {\n",
       "  nearest_obstacle_dist: 320\n",
       "}\n",
       "pos_info {\n",
       "  nearest_obstacle_dist: 320\n",
       "}\n",
       "pos_info {\n",
       "  nearest_obstacle_dist: 320\n",
       "}\n",
       "pos_info {\n",
       "  nearest_obstacle_dist: 320\n",
       "}\n",
       "pos_info {\n",
       "  nearest_obstacle_dist: 320\n",
       "}\n",
       "pos_info {\n",
       "  nearest_obstacle_dist: 320\n",
       "}\n",
       "pos_info {\n",
       "  nearest_obstacle_dist: 320\n",
       "}\n",
       "pos_info {\n",
       "  nearest_obstacle_dist: 320\n",
       "}\n",
       "pos_info {\n",
       "  nearest_obstacle_dist: 320\n",
       "}\n",
       "pos_info {\n",
       "  nearest_obstacle_dist: 320\n",
       "}\n",
       "pos_info {\n",
       "  nearest_obstacle_dist: 320\n",
       "}\n",
       "pos_info {\n",
       "  nearest_obstacle_dist: 320\n",
       "}\n",
       "]"
      ]
     },
     "execution_count": 12,
     "metadata": {},
     "output_type": "execute_result"
    }
   ],
   "source": [
    "state.my_unit"
   ]
  },
  {
   "cell_type": "markdown",
   "metadata": {},
   "source": [
    "#### # `en_unit` : 적, Zealot의 상태\n",
    "- 적은 pos_info값이 없음"
   ]
  },
  {
   "cell_type": "code",
   "execution_count": 13,
   "metadata": {
    "scrolled": true
   },
   "outputs": [
    {
     "data": {
      "text/plain": [
       "[unit_type: \"Protoss_Zealot\"\n",
       "hp: 100\n",
       "shield: 60\n",
       "pos_x: 2403\n",
       "pos_y: 2131\n",
       "angle: 1.3744467859455345\n",
       "]"
      ]
     },
     "execution_count": 13,
     "metadata": {},
     "output_type": "execute_result"
    }
   ],
   "source": [
    "state.en_unit"
   ]
  },
  {
   "cell_type": "markdown",
   "metadata": {},
   "source": [
    "### 6) `reward`, `done`, `info`"
   ]
  },
  {
   "cell_type": "code",
   "execution_count": 14,
   "metadata": {},
   "outputs": [
    {
     "data": {
      "text/plain": [
       "0"
      ]
     },
     "execution_count": 14,
     "metadata": {},
     "output_type": "execute_result"
    }
   ],
   "source": [
    "env.reward"
   ]
  },
  {
   "cell_type": "markdown",
   "metadata": {},
   "source": [
    "- agent의 보상값 (zealot을 죽이면 양의 보상을 받을 것으로 예상)"
   ]
  },
  {
   "cell_type": "code",
   "execution_count": 15,
   "metadata": {},
   "outputs": [
    {
     "data": {
      "text/plain": [
       "0"
      ]
     },
     "execution_count": 15,
     "metadata": {},
     "output_type": "execute_result"
    }
   ],
   "source": [
    "env.done"
   ]
  },
  {
   "cell_type": "markdown",
   "metadata": {},
   "source": [
    "- episode가 끝났는지에 대한 boolean값\n",
    "\n",
    "- vulture나 zealot 중 하나가 죽으면 끝날 것으로 예상"
   ]
  },
  {
   "cell_type": "code",
   "execution_count": 16,
   "metadata": {},
   "outputs": [
    {
     "data": {
      "text/plain": [
       "{}"
      ]
     },
     "execution_count": 16,
     "metadata": {},
     "output_type": "execute_result"
    }
   ],
   "source": [
    "env.info"
   ]
  }
 ],
 "metadata": {
  "kernelspec": {
   "display_name": "Python 3",
   "language": "python",
   "name": "python3"
  },
  "language_info": {
   "codemirror_mode": {
    "name": "ipython",
    "version": 3
   },
   "file_extension": ".py",
   "mimetype": "text/x-python",
   "name": "python",
   "nbconvert_exporter": "python",
   "pygments_lexer": "ipython3",
   "version": "3.6.9"
  }
 },
 "nbformat": 4,
 "nbformat_minor": 2
}
