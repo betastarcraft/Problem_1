{
 "cells": [
  {
   "cell_type": "markdown",
   "metadata": {},
   "source": [
    "### 김민섭님 코드"
   ]
  },
  {
   "cell_type": "code",
   "execution_count": 2,
   "metadata": {},
   "outputs": [],
   "source": [
    "from saida_gym.starcraft.avoidObservers import AvoidObservers\n",
    "import numpy as np\n",
    "import math\n",
    "import tensorflow as tf"
   ]
  },
  {
   "cell_type": "code",
   "execution_count": 4,
   "metadata": {},
   "outputs": [
    {
     "name": "stdout",
     "output_type": "stream",
     "text": [
      "Initialize...\n",
      "Shared Memory create\u0000\n",
      "SAIDA_AO3636 Shared memory found.\n"
     ]
    }
   ],
   "source": [
    "env = AvoidObservers(frames_per_step=4, action_type=0, move_angle=30, move_dist=5, verbose=0, \\\n",
    "                     local_speed=0, no_gui=False, auto_kill=True, \\\n",
    "                     bot_runner=r\"..\\SAIDA_RL\\cpp\\Release\\SAIDA\\SAIDA.exe\")"
   ]
  },
  {
   "cell_type": "code",
   "execution_count": 7,
   "metadata": {},
   "outputs": [],
   "source": [
    "def make_state(me, en):\n",
    "    MAX_ENEMY = 10\n",
    "    ob_list = []\n",
    "    for m in me:\n",
    "        ob_list.append(scale_pos(m.pos_x))\n",
    "        ob_list.append(scale_pos(m.pos_y))\n",
    "        ob_list.append(scale_velocity(m.velocity_x))\n",
    "        ob_list.append(scale_velocity(m.velocity_y))\n",
    "        ob_list.append(scale_angle(m.angle))\n",
    "    count = 0\n",
    "    for e in en:\n",
    "        ob_list.append(scale_pos(e.pos_x))\n",
    "        ob_list.append(scale_pos(e.pos_y))\n",
    "        ob_list.append(scale_velocity(e.velocity_x))\n",
    "        ob_list.append(scale_velocity(e.velocity_y))\n",
    "        ob_list.append(scale_angle(e.angle))\n",
    "        count += 1\n",
    "        if count == MAX_ENEMY: break\n",
    "    if count != MAX_ENEMY:\n",
    "        for k in range(MAX_ENEMY-count):\n",
    "            for j in range(5):\n",
    "                ob_list.append(0.0)\n",
    "    return np.array(ob_list)"
   ]
  },
  {
   "cell_type": "code",
   "execution_count": 10,
   "metadata": {},
   "outputs": [],
   "source": [
    "observation = env.reset()"
   ]
  },
  {
   "cell_type": "code",
   "execution_count": 11,
   "metadata": {},
   "outputs": [
    {
     "data": {
      "text/plain": [
       "array([ 6.4000000e+01,  1.2400000e+02,  0.0000000e+00,  0.0000000e+00,\n",
       "        5.0000000e-01,  7.3000000e+01,  1.0900000e+02,  6.0937500e-01,\n",
       "        1.6796875e-01, -9.1406250e-01,  4.9000000e+01,  1.1100000e+02,\n",
       "       -6.1328125e-01,  1.6796875e-01, -8.5937500e-02,  4.5000000e+01,\n",
       "        1.2200000e+02, -6.0937500e-01,  1.7968750e-01, -7.8125000e-03,\n",
       "        5.8000000e+01,  1.0500000e+02,  6.2890625e-01,  4.6875000e-02,\n",
       "       -9.7656250e-01,  0.0000000e+00,  0.0000000e+00,  0.0000000e+00,\n",
       "        0.0000000e+00,  0.0000000e+00,  0.0000000e+00,  0.0000000e+00,\n",
       "        0.0000000e+00,  0.0000000e+00,  0.0000000e+00,  0.0000000e+00,\n",
       "        0.0000000e+00,  0.0000000e+00,  0.0000000e+00,  0.0000000e+00,\n",
       "        0.0000000e+00,  0.0000000e+00,  0.0000000e+00,  0.0000000e+00,\n",
       "        0.0000000e+00,  0.0000000e+00,  0.0000000e+00,  0.0000000e+00,\n",
       "        0.0000000e+00,  0.0000000e+00,  0.0000000e+00,  0.0000000e+00,\n",
       "        0.0000000e+00,  0.0000000e+00,  0.0000000e+00])"
      ]
     },
     "execution_count": 11,
     "metadata": {},
     "output_type": "execute_result"
    }
   ],
   "source": [
    "state = make_state(observation.my_unit, observation.en_unit)\n",
    "state"
   ]
  },
  {
   "cell_type": "code",
   "execution_count": 5,
   "metadata": {},
   "outputs": [],
   "source": [
    "def scale_velocity(v):\n",
    "    return v\n",
    "\n",
    "\n",
    "def scale_angle(angle):\n",
    "    return (angle - math.pi) / math.pi\n",
    "\n",
    "\n",
    "def scale_pos(pos):\n",
    "    return int(pos / 16)\n",
    "\n",
    "\n",
    "def fx(x):\n",
    "    return -x + 2.5\n",
    "\n",
    "\n",
    "def reward_function(state, temp_reward, episode, action):\n",
    "    \"\"\"temp = np.arange(30)\n",
    "    temp = state.reshape(-1,5)[:,[0,1]]\n",
    "    min_l2 = 20\n",
    "    for i in range(5):\n",
    "        l2 = np.sqrt(np.sum((temp[0]-temp[i+1])**2))\n",
    "        #print(l2)\n",
    "        if min_l2 > l2:\n",
    "            min_l2 = l2\n",
    "    #print(temp[0])\n",
    "    reward = fx(min_l2/2.0) - (temp[0,1]/25.0)\n",
    "    if temp_reward == 5:\n",
    "        reward += temp_reward * 2\n",
    "    elif temp_reward == -5:\n",
    "        reward += temp_reward\"\"\"\n",
    "    if episode < 50:\n",
    "        if action[0] >= 7:\n",
    "            reward = 0.3\n",
    "        else:\n",
    "            reward = -0.3\n",
    "        if temp_reward == 5 or temp_reward == -5:\n",
    "            reward = temp_reward\n",
    "    else:\n",
    "        reward = 0.0\n",
    "        if temp_reward == 5 or temp_reward == -5:\n",
    "            reward = temp_reward\n",
    "    return reward"
   ]
  },
  {
   "cell_type": "code",
   "execution_count": 12,
   "metadata": {},
   "outputs": [],
   "source": [
    "tf.reset_default_graph()\n",
    "X = tf.placeholder(dtype=tf.float32, shape=[None, 55])\n",
    "TD_error = tf.placeholder(dtype=tf.float32, shape=[None])\n",
    "Action = tf.placeholder(dtype=tf.int32, shape=[None])\n",
    "TD_target = tf.placeholder(dtype=tf.float32, shape=[None])\n",
    "\n",
    "with tf.variable_scope('shared_variables'):\n",
    "    W1 = tf.get_variable(\"W1\", shape=[55, 256], initializer=tf.contrib.layers.xavier_initializer())\n",
    "    b1 = tf.Variable(tf.random_normal([256]))\n",
    "    out1 = tf.matmul(X, W1) + b1\n",
    "    fc1 = tf.nn.relu(out1)\n",
    "\n",
    "    W2 = tf.get_variable(\"W2\", shape=[256,256], initializer=tf.contrib.layers.xavier_initializer())\n",
    "    b2 = tf.Variable(tf.random_normal([256]))\n",
    "    out2 = tf.matmul(fc1,W2) + b2\n",
    "    fc2 = tf.nn.relu(out2)\n",
    "\n",
    "with tf.variable_scope('policy_variables'):\n",
    "    W3 = tf.get_variable(\"W3\", shape=[256,12], initializer=tf.contrib.layers.xavier_initializer())\n",
    "    b3 = tf.Variable(tf.random_normal([12]))\n",
    "    policy_output = tf.matmul(fc2,W3) + b3\n",
    "    policy = tf.nn.softmax(policy_output, 1)\n",
    "    log_policy = tf.log(tf.diag_part(tf.gather(tf.transpose(policy), Action)))\n",
    "\n",
    "with tf.variable_scope('value_variables'):\n",
    "    W31 = tf.get_variable(\"W31\", shape=[256,1], initializer=tf.contrib.layers.xavier_initializer())\n",
    "    b31 = tf.Variable(tf.random_normal([1]))\n",
    "    value = tf.reshape(tf.matmul(fc2,W31) + b31, [-1])\n",
    "\n",
    "loss = -tf.reduce_mean(log_policy*TD_error) + tf.reduce_mean((TD_target-value)**2)\n",
    "\n",
    "SGD = tf.train.GradientDescentOptimizer(0.0001)\n",
    "update = SGD.minimize(loss)"
   ]
  },
  {
   "cell_type": "code",
   "execution_count": 13,
   "metadata": {},
   "outputs": [
    {
     "name": "stdout",
     "output_type": "stream",
     "text": [
      "episode : 99, reward_sum : -5.000000\n",
      "episode : 199, reward_sum : -5.000000\n"
     ]
    },
    {
     "ename": "KeyboardInterrupt",
     "evalue": "",
     "output_type": "error",
     "traceback": [
      "\u001b[1;31m---------------------------------------------------------------------------\u001b[0m",
      "\u001b[1;31mKeyboardInterrupt\u001b[0m                         Traceback (most recent call last)",
      "\u001b[1;32m<ipython-input-13-2d34e5b3c407>\u001b[0m in \u001b[0;36m<module>\u001b[1;34m\u001b[0m\n\u001b[0;32m     15\u001b[0m     \u001b[0maction_list\u001b[0m\u001b[1;33m.\u001b[0m\u001b[0mappend\u001b[0m\u001b[1;33m(\u001b[0m\u001b[0maction\u001b[0m\u001b[1;33m[\u001b[0m\u001b[1;36m0\u001b[0m\u001b[1;33m]\u001b[0m\u001b[1;33m)\u001b[0m\u001b[1;33m\u001b[0m\u001b[1;33m\u001b[0m\u001b[0m\n\u001b[0;32m     16\u001b[0m     \u001b[1;32mwhile\u001b[0m \u001b[1;32mTrue\u001b[0m\u001b[1;33m:\u001b[0m\u001b[1;33m\u001b[0m\u001b[1;33m\u001b[0m\u001b[0m\n\u001b[1;32m---> 17\u001b[1;33m         \u001b[0mobservation\u001b[0m\u001b[1;33m,\u001b[0m \u001b[0mtemp_reward\u001b[0m\u001b[1;33m,\u001b[0m \u001b[0mdone\u001b[0m\u001b[1;33m,\u001b[0m \u001b[0m_\u001b[0m \u001b[1;33m=\u001b[0m \u001b[0menv\u001b[0m\u001b[1;33m.\u001b[0m\u001b[0mstep\u001b[0m\u001b[1;33m(\u001b[0m\u001b[0maction\u001b[0m\u001b[1;33m)\u001b[0m\u001b[1;33m\u001b[0m\u001b[1;33m\u001b[0m\u001b[0m\n\u001b[0m\u001b[0;32m     18\u001b[0m         \u001b[0mnext_state\u001b[0m \u001b[1;33m=\u001b[0m \u001b[0mmake_state\u001b[0m\u001b[1;33m(\u001b[0m\u001b[0mobservation\u001b[0m\u001b[1;33m.\u001b[0m\u001b[0mmy_unit\u001b[0m\u001b[1;33m,\u001b[0m \u001b[0mobservation\u001b[0m\u001b[1;33m.\u001b[0m\u001b[0men_unit\u001b[0m\u001b[1;33m)\u001b[0m\u001b[1;33m\u001b[0m\u001b[1;33m\u001b[0m\u001b[0m\n\u001b[0;32m     19\u001b[0m         \u001b[0mreward\u001b[0m \u001b[1;33m=\u001b[0m \u001b[0mreward_function\u001b[0m\u001b[1;33m(\u001b[0m\u001b[0mnext_state\u001b[0m\u001b[1;33m,\u001b[0m \u001b[0mtemp_reward\u001b[0m\u001b[1;33m,\u001b[0m \u001b[0mepisode\u001b[0m\u001b[1;33m,\u001b[0m \u001b[0maction\u001b[0m\u001b[1;33m)\u001b[0m\u001b[1;33m\u001b[0m\u001b[1;33m\u001b[0m\u001b[0m\n",
      "\u001b[1;32m~\\SAIDA_RL\\python\\saida_gym\\envs\\SAIDAGym.py\u001b[0m in \u001b[0;36mstep\u001b[1;34m(self, action, **kwargs)\u001b[0m\n\u001b[0;32m    124\u001b[0m         \u001b[0mself\u001b[0m\u001b[1;33m.\u001b[0m\u001b[0mconn\u001b[0m\u001b[1;33m.\u001b[0m\u001b[0mwrite\u001b[0m\u001b[1;33m(\u001b[0m\u001b[0menv\u001b[0m\u001b[1;33m.\u001b[0m\u001b[0mMESSAGE_TYPE\u001b[0m\u001b[1;33m[\u001b[0m\u001b[1;34m\"Step\"\u001b[0m\u001b[1;33m]\u001b[0m\u001b[1;33m,\u001b[0m \u001b[0mself\u001b[0m\u001b[1;33m.\u001b[0m\u001b[0mmake_step_msg\u001b[0m\u001b[1;33m(\u001b[0m\u001b[0mself\u001b[0m\u001b[1;33m.\u001b[0m\u001b[0mstep_req_msg\u001b[0m\u001b[1;33m,\u001b[0m \u001b[0maction\u001b[0m\u001b[1;33m,\u001b[0m \u001b[1;33m**\u001b[0m\u001b[0mkwargs\u001b[0m\u001b[1;33m)\u001b[0m\u001b[1;33m)\u001b[0m\u001b[1;33m\u001b[0m\u001b[1;33m\u001b[0m\u001b[0m\n\u001b[0;32m    125\u001b[0m \u001b[1;33m\u001b[0m\u001b[0m\n\u001b[1;32m--> 126\u001b[1;33m         \u001b[0mstep_val\u001b[0m \u001b[1;33m=\u001b[0m \u001b[0mself\u001b[0m\u001b[1;33m.\u001b[0m\u001b[0mconn\u001b[0m\u001b[1;33m.\u001b[0m\u001b[0mread\u001b[0m\u001b[1;33m(\u001b[0m\u001b[1;33m)\u001b[0m\u001b[1;33m\u001b[0m\u001b[1;33m\u001b[0m\u001b[0m\n\u001b[0m\u001b[0;32m    127\u001b[0m \u001b[1;33m\u001b[0m\u001b[0m\n\u001b[0;32m    128\u001b[0m         \u001b[1;32mif\u001b[0m \u001b[0mstep_val\u001b[0m\u001b[1;33m[\u001b[0m\u001b[1;36m0\u001b[0m\u001b[1;33m]\u001b[0m \u001b[1;33m!=\u001b[0m \u001b[1;34m\"Step\"\u001b[0m\u001b[1;33m:\u001b[0m\u001b[1;33m\u001b[0m\u001b[1;33m\u001b[0m\u001b[0m\n",
      "\u001b[1;32m~\\SAIDA_RL\\python\\saida_gym\\envs\\conn\\shm.py\u001b[0m in \u001b[0;36mread\u001b[1;34m(self, end_on_close)\u001b[0m\n\u001b[0;32m     67\u001b[0m             \u001b[0mself\u001b[0m\u001b[1;33m.\u001b[0m\u001b[0mshm\u001b[0m\u001b[1;33m.\u001b[0m\u001b[0mseek\u001b[0m\u001b[1;33m(\u001b[0m\u001b[1;36m0\u001b[0m\u001b[1;33m)\u001b[0m\u001b[1;33m\u001b[0m\u001b[1;33m\u001b[0m\u001b[0m\n\u001b[0;32m     68\u001b[0m             \u001b[0mmsg\u001b[0m \u001b[1;33m=\u001b[0m \u001b[0mself\u001b[0m\u001b[1;33m.\u001b[0m\u001b[0mshm\u001b[0m\u001b[1;33m.\u001b[0m\u001b[0mread\u001b[0m\u001b[1;33m(\u001b[0m\u001b[1;36m1\u001b[0m\u001b[1;33m)\u001b[0m\u001b[1;33m.\u001b[0m\u001b[0mdecode\u001b[0m\u001b[1;33m(\u001b[0m\u001b[1;34m'ascii'\u001b[0m\u001b[1;33m)\u001b[0m\u001b[1;33m\u001b[0m\u001b[1;33m\u001b[0m\u001b[0m\n\u001b[1;32m---> 69\u001b[1;33m             \u001b[0msleep\u001b[0m\u001b[1;33m(\u001b[0m\u001b[1;36m0.001\u001b[0m\u001b[1;33m)\u001b[0m\u001b[1;33m\u001b[0m\u001b[1;33m\u001b[0m\u001b[0m\n\u001b[0m\u001b[0;32m     70\u001b[0m             \u001b[0msleepTime\u001b[0m \u001b[1;33m+=\u001b[0m \u001b[1;36m0.001\u001b[0m\u001b[1;33m\u001b[0m\u001b[1;33m\u001b[0m\u001b[0m\n\u001b[0;32m     71\u001b[0m             \u001b[1;31m# if sleepTime > 30 :\u001b[0m\u001b[1;33m\u001b[0m\u001b[1;33m\u001b[0m\u001b[1;33m\u001b[0m\u001b[0m\n",
      "\u001b[1;31mKeyboardInterrupt\u001b[0m: "
     ]
    }
   ],
   "source": [
    "sess = tf.Session()\n",
    "sess.run(tf.global_variables_initializer())\n",
    "GAMMA = 0.9\n",
    "episode_reward = []\n",
    "ACTION_SPACE = 12\n",
    "\n",
    "for episode in range(10000):\n",
    "    state_list, action_list, td_error_list, td_target_list = [], [], [], []\n",
    "    reward_sum = 0.0\n",
    "    observation = env.reset()\n",
    "    state = make_state(observation.my_unit, observation.en_unit)\n",
    "    state_list.append(state)\n",
    "    p_s = sess.run(policy, feed_dict={X:state.reshape(1,-1)}).reshape(-1)\n",
    "    action = [np.random.choice(np.arange(ACTION_SPACE), p=p_s)]\n",
    "    action_list.append(action[0])\n",
    "    while True:\n",
    "        observation, temp_reward, done, _ = env.step(action)\n",
    "        next_state = make_state(observation.my_unit, observation.en_unit)\n",
    "        reward = reward_function(next_state, temp_reward, episode, action)\n",
    "        reward_sum += reward\n",
    "        next_V = sess.run(value, feed_dict={X:next_state.reshape(1,-1)})[0]\n",
    "        V = sess.run(value, feed_dict={X:state.reshape(1,-1)})[0]\n",
    "        td_error = reward + GAMMA*next_V - V\n",
    "        td_target_list.append(reward + GAMMA*next_V)\n",
    "        td_error_list.append(td_error)\n",
    "        if done: break\n",
    "        state = next_state\n",
    "        state_list.append(state)\n",
    "        p_s = sess.run(policy, feed_dict={X:state.reshape(1,-1)}).reshape(-1)\n",
    "        action = [np.random.choice(np.arange(ACTION_SPACE), p=p_s)]\n",
    "        action_list.append(action[0])\n",
    "    sess.run(update, feed_dict={X:np.array(state_list), TD_error:np.array(td_error_list),\\\n",
    "                                TD_target:np.array(td_target_list), Action:np.array(action_list)})\n",
    "    if episode % 100 == 99:\n",
    "        print('episode : %d, reward_sum : %f'%(episode, reward_sum))\n",
    "        episode_reward.append(reward_sum)"
   ]
  },
  {
   "cell_type": "code",
   "execution_count": null,
   "metadata": {},
   "outputs": [],
   "source": []
  }
 ],
 "metadata": {
  "kernelspec": {
   "display_name": "Python 3",
   "language": "python",
   "name": "python3"
  },
  "language_info": {
   "codemirror_mode": {
    "name": "ipython",
    "version": 3
   },
   "file_extension": ".py",
   "mimetype": "text/x-python",
   "name": "python",
   "nbconvert_exporter": "python",
   "pygments_lexer": "ipython3",
   "version": "3.6.9"
  }
 },
 "nbformat": 4,
 "nbformat_minor": 2
}
