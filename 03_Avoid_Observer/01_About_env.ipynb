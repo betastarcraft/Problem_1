{
 "cells": [
  {
   "cell_type": "code",
   "execution_count": 1,
   "metadata": {},
   "outputs": [],
   "source": [
    "import numpy as np\n",
    "import matplotlib.pyplot as plt\n",
    "%matplotlib inline\n",
    "%config InlineBackend.figure_format = 'retina'"
   ]
  },
  {
   "cell_type": "markdown",
   "metadata": {},
   "source": [
    "# `AvoidObserver`\n",
    "- SAIDA_RL에서 작성한 document : https://teamsaida.github.io/SAIDA_RL/AvoidObserver/"
   ]
  },
  {
   "cell_type": "markdown",
   "metadata": {},
   "source": [
    "---\n",
    "## #1. import AvoidObserver"
   ]
  },
  {
   "cell_type": "markdown",
   "metadata": {},
   "source": [
    "- `AvoidObserver` 클래스를 import 해서 env를 만들면 학습시킬 수 있는 환경 객체가 생성된다."
   ]
  },
  {
   "cell_type": "code",
   "execution_count": 2,
   "metadata": {
    "scrolled": true
   },
   "outputs": [],
   "source": [
    "from saida_gym.starcraft.avoidObservers import AvoidObservers"
   ]
  },
  {
   "cell_type": "code",
   "execution_count": 3,
   "metadata": {
    "scrolled": true
   },
   "outputs": [
    {
     "name": "stdout",
     "output_type": "stream",
     "text": [
      "Initialize...\n",
      "Shared Memory create\u0000\n",
      "SAIDA_AO6140 Shared memory found.\n"
     ]
    }
   ],
   "source": [
    "frames_per_step = 4\n",
    "no_gui = False\n",
    "\n",
    "env = AvoidObservers(action_type=0, verbose=0, frames_per_step=frames_per_step, no_gui=no_gui, \\\n",
    "                     bot_runner=r\"..\\SAIDA_RL\\cpp\\Release\\SAIDA\\SAIDA.exe\")"
   ]
  },
  {
   "cell_type": "markdown",
   "metadata": {},
   "source": [
    "- env 객체를 생성하기만 해도 starcraft 환경이 켜짐. \n",
    "\n",
    "\n",
    "- `python/saida_gym/envs/SAIDAGym.py` 에서 `shm.SharedMemory()` 로 메모리를 공유하면서 바로 켜지는 것으로 보임."
   ]
  },
  {
   "cell_type": "code",
   "execution_count": 4,
   "metadata": {},
   "outputs": [
    {
     "data": {
      "text/plain": [
       "my_unit {\n",
       "  pos_x: 1024\n",
       "  pos_y: 1984\n",
       "  angle: 4.71238898038469\n",
       "}\n",
       "en_unit {\n",
       "  pos_x: 1179\n",
       "  pos_y: 1753\n",
       "  velocity_x: -0.1875\n",
       "  velocity_y: -0.1015625\n",
       "  angle: 3.141592653589793\n",
       "}\n",
       "en_unit {\n",
       "  pos_x: 797\n",
       "  pos_y: 1775\n",
       "  velocity_x: -0.0234375\n",
       "  velocity_y: -0.2109375\n",
       "  angle: 4.123340357836604\n",
       "}\n",
       "en_unit {\n",
       "  pos_x: 731\n",
       "  pos_y: 1965\n",
       "  velocity_x: -0.1875\n",
       "  velocity_y: 0.09765625\n",
       "  angle: 2.1598449493429825\n",
       "}\n",
       "en_unit {\n",
       "  pos_x: 928\n",
       "  pos_y: 1686\n",
       "  velocity_x: -0.0625\n",
       "  velocity_y: 0.19921875\n",
       "  angle: 2.356194490192345\n",
       "}"
      ]
     },
     "execution_count": 4,
     "metadata": {},
     "output_type": "execute_result"
    }
   ],
   "source": [
    "s = env.reset()\n",
    "s"
   ]
  },
  {
   "cell_type": "markdown",
   "metadata": {},
   "source": [
    "---\n",
    "## #2. `State` : 64x64로 전체 지도 그리기\n"
   ]
  },
  {
   "cell_type": "code",
   "execution_count": 5,
   "metadata": {},
   "outputs": [],
   "source": [
    "def process_observation(observation, last_action=None, verbose=False):\n",
    "    LOCAL_OBSERVABLE_TILE_SIZE = 10\n",
    "\n",
    "    # scurge's map\n",
    "    map_of_scurge = np.zeros(shape=(64, 64))\n",
    "\n",
    "    me_x = observation.my_unit[0].pos_x\n",
    "    me_y = observation.my_unit[0].pos_y\n",
    "\n",
    "    me_x_t = np.clip(int(me_x/32), 0, 64)\n",
    "    me_y_t = np.clip(int(me_y/32), 0, 64)\n",
    "    if verbose:\n",
    "        print('my location:', [me_x_t, me_y_t])\n",
    "\n",
    "    # Safe zone : left-top (896, 1888) right-bottom (1056, 2048) with additional (marginal) space\n",
    "    for x in range(int(896/32), int(1056/32)): # 28~33\n",
    "        for y in range(int(1888/32), int(2048/32)): # 59~64\n",
    "            map_of_scurge[y][x] = -1  # masking safe zone\n",
    "\n",
    "    # Goal line : left-top (0, 0) right-bottom (2048, 64) with additional (marginal) space\n",
    "    for x in range(int(0/32), int(2048/32)): # 0~64\n",
    "        for y in range(int(0/32), int(64/32)): # 0~2\n",
    "            map_of_scurge[y][x] = -1  # masking safe zone\n",
    "\n",
    "    # masking observer's location\n",
    "    map_of_scurge[me_y_t][me_x_t] = 1\n",
    "    #map_of_scurge = np.expand_dims(map_of_scurge, -1)\n",
    "\n",
    "    # observer map\n",
    "    map_of_observer = np.zeros(shape=(LOCAL_OBSERVABLE_TILE_SIZE*2+1, LOCAL_OBSERVABLE_TILE_SIZE*2+1))\n",
    "    map_of_observer[LOCAL_OBSERVABLE_TILE_SIZE, LOCAL_OBSERVABLE_TILE_SIZE] = -1\n",
    "\n",
    "    for ob in observation.en_unit:\n",
    "        en_x_t = ob.pos_x / 32\n",
    "        en_y_t = ob.pos_y / 32\n",
    "\n",
    "        # scurge를 중앙에 두기 위해\n",
    "        rel_x = int(en_x_t - me_x_t) + LOCAL_OBSERVABLE_TILE_SIZE\n",
    "        rel_y = int(en_y_t - me_y_t) + LOCAL_OBSERVABLE_TILE_SIZE\n",
    "\n",
    "        rel_x = np.clip(rel_x, 0, LOCAL_OBSERVABLE_TILE_SIZE*2-1)\n",
    "        rel_y = np.clip(rel_y, 0, LOCAL_OBSERVABLE_TILE_SIZE*2-1)\n",
    "        if verbose:\n",
    "            print('enemy location:', [en_x_t, en_y_t], '(relevant:', [rel_x, rel_y], ')')\n",
    "\n",
    "        map_of_observer[rel_y][rel_x] = map_of_observer[rel_y][rel_x] + 1  # if two or more observers are duplicated, we use sum\n",
    "\n",
    "    # display out of map where scurge can't go based on current location of scurge\n",
    "    scurge_out_of_map_left = me_x_t - LOCAL_OBSERVABLE_TILE_SIZE\n",
    "    scurge_out_of_map_right = me_x_t + LOCAL_OBSERVABLE_TILE_SIZE\n",
    "    scurge_out_of_map_up = me_y_t - LOCAL_OBSERVABLE_TILE_SIZE\n",
    "    scurge_out_of_map_down = me_y_t + LOCAL_OBSERVABLE_TILE_SIZE\n",
    "\n",
    "    if scurge_out_of_map_left < 0:\n",
    "        map_of_observer[:, 0:-scurge_out_of_map_left] = -2\n",
    "    if scurge_out_of_map_right > 64:\n",
    "        map_of_observer[:, -(scurge_out_of_map_right-64):] = -2\n",
    "    if scurge_out_of_map_up < 0:\n",
    "        map_of_observer[0:-scurge_out_of_map_up,:] = -2\n",
    "    if scurge_out_of_map_down > 64:\n",
    "        map_of_observer[-(scurge_out_of_map_down-64):,:] = -2\n",
    "\n",
    "    #map_of_observer = np.expand_dims(map_of_observer, -1)\n",
    "\n",
    "    if not last_action:\n",
    "        last_action = np.full((64, 64), -1)\n",
    "    else:\n",
    "        last_action = np.full((64, 64), last_action)\n",
    "        \n",
    "    if verbose:\n",
    "        print(map_of_scurge.shape)\n",
    "        print(map_of_observer.shape)\n",
    "        print(last_action.shape)\n",
    "    \n",
    "    return [map_of_scurge, map_of_observer, last_action]"
   ]
  },
  {
   "cell_type": "code",
   "execution_count": 6,
   "metadata": {},
   "outputs": [],
   "source": [
    "[map_of_scurge, map_of_observer, last_action] = process_observation(s)"
   ]
  },
  {
   "cell_type": "code",
   "execution_count": 7,
   "metadata": {},
   "outputs": [
    {
     "data": {
      "image/png": "[encoded data removed]",
      "text/plain": [
       "<Figure size 432x288 with 1 Axes>"
      ]
     },
     "metadata": {
      "image/png": {
       "height": 250,
       "width": 253
      },
      "needs_background": "light"
     },
     "output_type": "display_data"
    }
   ],
   "source": [
    "plt.imshow(map_of_scurge, cmap='gray')\n",
    "plt.show()"
   ]
  },
  {
   "cell_type": "code",
   "execution_count": 8,
   "metadata": {},
   "outputs": [
    {
     "data": {
      "image/png": "[encoded data removed]",
      "text/plain": [
       "<Figure size 432x288 with 1 Axes>"
      ]
     },
     "metadata": {
      "image/png": {
       "height": 250,
       "width": 262
      },
      "needs_background": "light"
     },
     "output_type": "display_data"
    }
   ],
   "source": [
    "plt.imshow(map_of_observer, cmap='gray')\n",
    "plt.show()"
   ]
  },
  {
   "cell_type": "markdown",
   "metadata": {},
   "source": [
    "---"
   ]
  },
  {
   "cell_type": "markdown",
   "metadata": {},
   "source": [
    "##  #3. 그 외의 파라미터"
   ]
  },
  {
   "cell_type": "markdown",
   "metadata": {},
   "source": [
    "### 1) 학습과 관련된 parameters"
   ]
  },
  {
   "cell_type": "code",
   "execution_count": 11,
   "metadata": {},
   "outputs": [
    {
     "data": {
      "text/plain": [
       "dict_keys(['verbose', 'action_type', 'map_version', 'frames_per_step', 'move_angle', 'move_dist', 'conn', 'message', 'common_message', 'init_req_msg', 'init_res_msg', 'reset_req_msg', 'reset_res_msg', 'step_req_msg', 'step_res_msg', 'close_req_msg', 'state', 'action_space', 'reward', 'done', 'info'])"
      ]
     },
     "execution_count": 11,
     "metadata": {},
     "output_type": "execute_result"
    }
   ],
   "source": [
    "env.__dict__.keys()"
   ]
  },
  {
   "cell_type": "code",
   "execution_count": 12,
   "metadata": {},
   "outputs": [
    {
     "name": "stdout",
     "output_type": "stream",
     "text": [
      "verbose: 0\n",
      "action_type: 0\n",
      "map_version: 0\n",
      "frames_per_step: 4\n",
      "move_angle: 30\n",
      "move_dist: 4\n",
      "action_space: Discrete(13)\n"
     ]
    }
   ],
   "source": [
    "print(\"verbose:\", env.verbose)\n",
    "print(\"action_type:\", env.action_type)\n",
    "print(\"map_version:\", env.map_version)\n",
    "print(\"frames_per_step:\", env.frames_per_step)\n",
    "print(\"move_angle:\", env.move_angle)\n",
    "print(\"move_dist:\", env.move_dist)\n",
    "print(\"action_space:\", env.action_space)"
   ]
  },
  {
   "cell_type": "markdown",
   "metadata": {},
   "source": [
    "#### # `verbose`\n",
    "- 출력되는 로그의 양 조정\n",
    "\n",
    "#### # `action_type`\n",
    "- `0` : discrete (output : descrete한 N개의 action_space 중 하나의 `integer` (0~N 중 마지막 숫자인 N은 공격))\n",
    "- `1` : continuous, xy좌표 (output : `[x좌표, y좌표, action_종류(0:이동, 1:공격)]`)\n",
    "- `2` : continuous, 극좌표 (output : `[theta, radian, action_종류(0:이동, 1:공격)]`)\n",
    "    \n",
    "#### # `map_version` \n",
    "- `0` : 1 vulture versus 1 zealot, no terrain\n",
    "- `1` : 1 vulture versus 2 zealot, no terrain\t\n",
    "- `2` : 1 vulture versus 1 zealot, with terrain\n",
    "- `3` : 1 vulture versus 2 zealot, with terrain\n",
    "\n",
    "#### # `frames_per_step`\n",
    "- 몇 frame마다 하나의 action을 결정할지에 대한 step을 결정\n",
    "\n",
    "#### # `move_angle`\n",
    "- 가장 작은 단위의 움직임 각도 단위\n",
    "- `move_angle = 30` 이면 agent는 30도 단위, 즉 360/30 = 12방향으로 이동가능\n",
    "\n",
    "#### # `move_dist` \n",
    "- 한 action에 이동할 거리\n",
    "- 1 unit = 32px \n",
    "\n",
    "#### # `action_space` \n",
    "- `move_angle`로 나뉘어진 action 공간\n",
    "- `move_angle = 30` 이면 `action_space`는 12개 방향 + 정지 action 1개 = 13개\n",
    "\n",
    "#### # `observation_space`\n",
    "- 각 agent (자신과 적 포함) 에게서 관찰할 수 있는 모든 정보 종류의 수"
   ]
  },
  {
   "cell_type": "markdown",
   "metadata": {},
   "source": [
    "### 2) starcraft server와의 connection과 관련된 parameters"
   ]
  },
  {
   "cell_type": "code",
   "execution_count": 13,
   "metadata": {},
   "outputs": [
    {
     "name": "stdout",
     "output_type": "stream",
     "text": [
      "conn: <saida_gym.envs.conn.shm.SharedMemory object at 0x00000140613AB710>\n",
      "message: <module 'saida_gym.envs.protobuf.common_pb2' from 'C:\\\\Users\\\\Jeina\\\\SAIDA_RL\\\\python\\\\saida_gym\\\\envs\\\\protobuf\\\\common_pb2.py'>\n",
      "common_message: <module 'saida_gym.envs.protobuf.common_pb2' from 'C:\\\\Users\\\\Jeina\\\\SAIDA_RL\\\\python\\\\saida_gym\\\\envs\\\\protobuf\\\\common_pb2.py'>\n"
     ]
    }
   ],
   "source": [
    "print(\"conn:\", env.conn)\n",
    "print(\"message:\", env.message)  # protobuf file\n",
    "print(\"common_message:\", env.common_message)  # protobuf file"
   ]
  },
  {
   "cell_type": "markdown",
   "metadata": {},
   "source": [
    "- 이 친구들은 connection과 연관이 있음 \n",
    "\n",
    "\n",
    "- python 코드에서 cpp 코드로 넘어가는 부분이기도 함\n",
    "\n",
    "\n",
    "- python과 cpp 간에 데이터 전송을 protobuf 라는 데이터 구조로 진행하는 것으로 보임, 완벽하게 이해는 x  "
   ]
  },
  {
   "cell_type": "markdown",
   "metadata": {},
   "source": [
    "### 3) `reward`, `done`, `info`"
   ]
  },
  {
   "cell_type": "code",
   "execution_count": 16,
   "metadata": {},
   "outputs": [
    {
     "data": {
      "text/plain": [
       "0"
      ]
     },
     "execution_count": 16,
     "metadata": {},
     "output_type": "execute_result"
    }
   ],
   "source": [
    "env.reward"
   ]
  },
  {
   "cell_type": "markdown",
   "metadata": {},
   "source": [
    "- agent의 보상값 (zealot을 죽이면 양의 보상을 받을 것으로 예상)"
   ]
  },
  {
   "cell_type": "code",
   "execution_count": 17,
   "metadata": {},
   "outputs": [
    {
     "data": {
      "text/plain": [
       "0"
      ]
     },
     "execution_count": 17,
     "metadata": {},
     "output_type": "execute_result"
    }
   ],
   "source": [
    "env.done"
   ]
  },
  {
   "cell_type": "markdown",
   "metadata": {},
   "source": [
    "- episode가 끝났는지에 대한 boolean값\n",
    "\n",
    "- vulture나 zealot 중 하나가 죽으면 끝날 것으로 예상"
   ]
  },
  {
   "cell_type": "code",
   "execution_count": 18,
   "metadata": {},
   "outputs": [
    {
     "data": {
      "text/plain": [
       "{}"
      ]
     },
     "execution_count": 18,
     "metadata": {},
     "output_type": "execute_result"
    }
   ],
   "source": [
    "env.info"
   ]
  }
 ],
 "metadata": {
  "kernelspec": {
   "display_name": "Python 3",
   "language": "python",
   "name": "python3"
  },
  "language_info": {
   "codemirror_mode": {
    "name": "ipython",
    "version": 3
   },
   "file_extension": ".py",
   "mimetype": "text/x-python",
   "name": "python",
   "nbconvert_exporter": "python",
   "pygments_lexer": "ipython3",
   "version": "3.6.9"
  }
 },
 "nbformat": 4,
 "nbformat_minor": 2
}
